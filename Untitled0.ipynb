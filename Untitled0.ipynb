{
  "nbformat": 4,
  "nbformat_minor": 0,
  "metadata": {
    "colab": {
      "provenance": [],
      "authorship_tag": "ABX9TyNA3fQ/iAO+YForJz2fzIL9",
      "include_colab_link": true
    },
    "kernelspec": {
      "name": "python3",
      "display_name": "Python 3"
    },
    "language_info": {
      "name": "python"
    }
  },
  "cells": [
    {
      "cell_type": "markdown",
      "metadata": {
        "id": "view-in-github",
        "colab_type": "text"
      },
      "source": [
        "<a href=\"https://colab.research.google.com/github/zennom/dicionarios_python/blob/main/Untitled0.ipynb\" target=\"_parent\"><img src=\"https://colab.research.google.com/assets/colab-badge.svg\" alt=\"Open In Colab\"/></a>"
      ]
    },
    {
      "cell_type": "code",
      "execution_count": null,
      "metadata": {
        "colab": {
          "base_uri": "https://localhost:8080/"
        },
        "id": "-AwE9vA3E3Ee",
        "outputId": "d10111c9-3f64-4bfd-8b8a-7d0ff6ec5aa2"
      },
      "outputs": [
        {
          "output_type": "stream",
          "name": "stdout",
          "text": [
            "Olá mundo!\n",
            "Hoje é terça\n"
          ]
        }
      ],
      "source": [
        "print(\"Olá mundo!\")\n",
        "\n",
        "mensagem = \"Hoje é terça\"\n",
        "\n",
        "print(mensagem)"
      ]
    },
    {
      "cell_type": "code",
      "source": [
        "nome = \"Fulano de Tal\" #nome recebe uma string\n",
        "idade = 35 #numero inteiro (1,50,300,20)\n",
        "altura = 1.65 #numero decimal chamamos de float ou double\n",
        "peso = 70.200\n",
        "temGato = True #variavel booleana só pode ser True ou False\n",
        "\n",
        "#exibindo mensagem para o usuário\n",
        "print(\"Olá\",nome,\"você tem\",idade,\"anos\")\n",
        "print(f\"Olá {nome} você tem {idade} anos\")"
      ],
      "metadata": {
        "colab": {
          "base_uri": "https://localhost:8080/"
        },
        "id": "z-eGTtpyFgeJ",
        "outputId": "e2045f08-49af-48e1-91db-ec666d3aa666"
      },
      "execution_count": null,
      "outputs": [
        {
          "output_type": "stream",
          "name": "stdout",
          "text": [
            "Olá Fulano de Tal você tem 35 anos\n",
            "Olá Fulano de Tal você tem 35 anos\n"
          ]
        }
      ]
    },
    {
      "cell_type": "code",
      "source": [
        "n1 = input(\"Digite um número: \") #interação com usuário\n",
        "print(\"O número digitado é\",n1)"
      ],
      "metadata": {
        "colab": {
          "base_uri": "https://localhost:8080/"
        },
        "id": "wLISRC-0OGrt",
        "outputId": "f2f7a26e-8be6-4b13-96c0-968923627f09"
      },
      "execution_count": null,
      "outputs": [
        {
          "output_type": "stream",
          "name": "stdout",
          "text": [
            "Digite um número: 300\n",
            "O número digitado é 300\n"
          ]
        }
      ]
    },
    {
      "cell_type": "code",
      "source": [
        "sobreNome = input(\"Digite seu nome completo: \")\n",
        "cpf = input(\"Digite seu cpf :\")\n",
        "endereco = input(\"Digite seu endereço: \")\n",
        "\n",
        "print(f\"Seu nome completo é {sobreNome} seu cpf é {cpf} e o seu endereco é {endereco}\")"
      ],
      "metadata": {
        "id": "DtChb61zR_2P"
      },
      "execution_count": null,
      "outputs": []
    },
    {
      "cell_type": "code",
      "source": [
        "n1 = 10\n",
        "n2 = 7\n",
        "soma = n1+n2 #armazenando dentro da uma variavel\n",
        "mult = n1*n2 # multiplicação\n",
        "sub = n1-n2 # subtração\n",
        "div = n1/n2 # divisão\n",
        "print(soma)\n",
        "print(n1+n2)#fazendo o calculo direto"
      ],
      "metadata": {
        "colab": {
          "base_uri": "https://localhost:8080/"
        },
        "id": "XTk45zZwSyfY",
        "outputId": "2a4db9f4-7e60-40f9-8f50-5010251c14c7"
      },
      "execution_count": null,
      "outputs": [
        {
          "output_type": "stream",
          "name": "stdout",
          "text": [
            "17\n",
            "17\n"
          ]
        }
      ]
    },
    {
      "cell_type": "code",
      "source": [
        "numero1 = float(input(\"Digite um número: \"))\n",
        "numero2 = float(input(\"Digite outro número: \"))\n",
        "\n",
        "resultado = numero1 + numero2\n",
        "\n",
        "print(resultado)"
      ],
      "metadata": {
        "colab": {
          "base_uri": "https://localhost:8080/"
        },
        "id": "m01T5ydwc96D",
        "outputId": "5c2d03d1-1c08-4520-9b86-2c671d53dd3e"
      },
      "execution_count": null,
      "outputs": [
        {
          "output_type": "stream",
          "name": "stdout",
          "text": [
            "Digite um número: 60\n",
            "Digite outro número: 10\n",
            "70.0\n"
          ]
        }
      ]
    },
    {
      "cell_type": "code",
      "source": [
        "base = int(input(\"Digite a base: \"))\n",
        "altura = int(input(\"Digite a altura: \"))\n",
        "\n",
        "area = base * altura/2\n",
        "\n",
        "print(area)"
      ],
      "metadata": {
        "colab": {
          "base_uri": "https://localhost:8080/"
        },
        "id": "bpFvCWO4hVHC",
        "outputId": "7b817c84-f652-42d9-f5b2-897f0c08aa92"
      },
      "execution_count": null,
      "outputs": [
        {
          "output_type": "stream",
          "name": "stdout",
          "text": [
            "Digite a base: 10\n",
            "Digite a altura: 20\n",
            "100.0\n"
          ]
        }
      ]
    },
    {
      "cell_type": "code",
      "source": [
        "n1 = float(input(\"Digite um numero: \"))\n",
        "n2 = float(input(\"Digite um numero: \"))\n",
        "n3 = float(input(\"Digite um numero: \"))\n",
        "\n",
        "media = (n1+n2+n3)/3\n",
        "\n",
        "print(\"A sua média é \",round(media,2)) # (media:.2f)"
      ],
      "metadata": {
        "colab": {
          "base_uri": "https://localhost:8080/"
        },
        "id": "f2RVAwY6qRnv",
        "outputId": "90318c65-af87-4a71-9247-77774c88870a"
      },
      "execution_count": null,
      "outputs": [
        {
          "output_type": "stream",
          "name": "stdout",
          "text": [
            "Digite um numero: 3.5\n",
            "Digite um numero: 6.8\n",
            "Digite um numero: 3.0\n",
            "A sua média é  4.43\n"
          ]
        }
      ]
    },
    {
      "cell_type": "code",
      "source": [
        "nome = input(\"Digite seu nome: \")\n",
        "salario = float(input(\"Digite seu salario: \"))\n",
        "vendas = float(input(\"Digite seu total de vendas: \"))\n",
        "\n",
        "total = salario + (vendas * 0.15)\n",
        "\n",
        "print(\"Total = R$\",round(total,2))"
      ],
      "metadata": {
        "colab": {
          "base_uri": "https://localhost:8080/"
        },
        "id": "R7I3HOafx6eC",
        "outputId": "2247db90-5e43-4488-b06f-5c29571f2341"
      },
      "execution_count": null,
      "outputs": [
        {
          "output_type": "stream",
          "name": "stdout",
          "text": [
            "Digite seu nome: João\n",
            "Digite seu salario: 500\n",
            "Digite seu total de vendas: 1230.50\n",
            "Total = R$ 684.58\n"
          ]
        }
      ]
    },
    {
      "cell_type": "code",
      "source": [
        "nome = input(\"Digite o nome do vendedor :\")\n",
        "salFixo = float(input(\"Digite seu salario fixo:\"))\n",
        "vendasMes = float(input(\"Digite as vendas realizadas no mês:\"))\n",
        "\n",
        "resultado = salFixo + (vendasMes * 0.15)\n",
        "\n",
        "print(f\"Total = R$ \",round(resultado,2))"
      ],
      "metadata": {
        "colab": {
          "base_uri": "https://localhost:8080/"
        },
        "id": "e3Vtvn7FwQwI",
        "outputId": "1eaf5934-b188-4869-dfc2-a54e67881a13"
      },
      "execution_count": null,
      "outputs": [
        {
          "output_type": "stream",
          "name": "stdout",
          "text": [
            "Digite o nome do vendedor :José\n",
            "Digite seu salario fixo:500\n",
            "Digite as vendas realizadas no mês:1230.30\n",
            "Total = R$  684.54\n"
          ]
        }
      ]
    },
    {
      "cell_type": "code",
      "source": [
        "#bibliotecas em Python\n",
        "import math\n",
        "n = 18\n",
        "raiz = math.sqrt(n)\n",
        "\n",
        "\n",
        "print(raiz)"
      ],
      "metadata": {
        "colab": {
          "base_uri": "https://localhost:8080/"
        },
        "id": "Ar8jCd7bTNWi",
        "outputId": "ee4c5f36-b3b2-4f1f-82b9-379076926f7a"
      },
      "execution_count": null,
      "outputs": [
        {
          "output_type": "stream",
          "name": "stdout",
          "text": [
            "4.242640687119285\n"
          ]
        }
      ]
    },
    {
      "cell_type": "code",
      "source": [
        "from math import factorial\n",
        "\n",
        "fat = factorial(5)\n",
        "print(fat)\n",
        "#fatorial: 5! = 5.4.3.2 = 120\n",
        "#fatorial: 7! = 7.6.5.4.3.2 =\n",
        "\n",
        "\n"
      ],
      "metadata": {
        "colab": {
          "base_uri": "https://localhost:8080/"
        },
        "id": "pmumye6iVfMg",
        "outputId": "12b04f00-24b5-49b5-bd8d-75be2808d208"
      },
      "execution_count": null,
      "outputs": [
        {
          "output_type": "stream",
          "name": "stdout",
          "text": [
            "120\n"
          ]
        }
      ]
    },
    {
      "cell_type": "code",
      "source": [
        "a = 10\n",
        "b = 900\n",
        "c = 93.67\n",
        "#print(a <= c)\n",
        "#print(b <= a)\n",
        "#print(c >= b)\n",
        "# and | or - operadores lógicos\n",
        "\n",
        "print(a > b and c!= a)\n",
        "print(b <= c or b > a)"
      ],
      "metadata": {
        "colab": {
          "base_uri": "https://localhost:8080/"
        },
        "id": "aW5IND6ZYdan",
        "outputId": "8f1ef653-a4c8-414c-c575-4819dffcea0c"
      },
      "execution_count": null,
      "outputs": [
        {
          "output_type": "stream",
          "name": "stdout",
          "text": [
            "False\n",
            "True\n"
          ]
        }
      ]
    },
    {
      "cell_type": "code",
      "source": [
        "#IF ELSE - SE / SENÃO\n",
        "\n",
        "dinheiro = float(input(\"Digite um valor em R$ :\"))\n",
        "\n",
        "if(dinheiro >= 3.500):\n",
        "  print(\"Vou comprar um ps5\")\n",
        "elif(dinheiro >= 2.500):\n",
        "  print(\"Vou comprar um XBOX\")\n",
        "elif(dinheiro >= 1.800):\n",
        "  print(\"Vou comprar um Switch\")\n",
        "else:\n",
        "  print(\"Não vou poder comprar um ps5\")\n",
        "\n",
        "\n"
      ],
      "metadata": {
        "colab": {
          "base_uri": "https://localhost:8080/"
        },
        "id": "KT5-6ldUc9U8",
        "outputId": "d090b6e0-d6c7-4776-b985-a75d16ba7765"
      },
      "execution_count": null,
      "outputs": [
        {
          "output_type": "stream",
          "name": "stdout",
          "text": [
            "Digite um valor em R$ :2.000\n",
            "Vou comprar um Switch\n"
          ]
        }
      ]
    },
    {
      "cell_type": "code",
      "source": [
        "from datetime import datetime\n",
        "\n",
        "#pegar o ano atual\n",
        "anoAtual = datetime.now().year\n",
        "\n",
        "#perguntar pro usuario o ano de nascimento\n",
        "anoNascimento = int(input(\"Digite o ano de nascimento:\"))\n",
        "\n",
        "#calcular a idade\n",
        "idade = anoAtual - anoNascimento\n",
        "\n",
        "#verifica se a pessoa pode dirigir ou não\n",
        "if idade >= 18:\n",
        "  print(\"Poderá dirigir\")\n",
        "else:\n",
        "  print(\"Não poderá dirigir\")"
      ],
      "metadata": {
        "colab": {
          "base_uri": "https://localhost:8080/"
        },
        "id": "BOnzhQdbja8s",
        "outputId": "40712706-3f4b-4ccd-e31f-b9ab4330654a"
      },
      "execution_count": null,
      "outputs": [
        {
          "output_type": "stream",
          "name": "stdout",
          "text": [
            "Digite o ano de nascimento:1995\n",
            "Poderá dirigir\n"
          ]
        }
      ]
    },
    {
      "cell_type": "code",
      "source": [
        "a = int(input(\"Digite um valor:\"))\n",
        "b = int(input(\"Digite um valor:\"))\n",
        "c = int(input(\"Digite um valor:\"))\n",
        "d = int(input(\"Digite um valor:\"))\n",
        "\n",
        "if(b > c and d > a and c + d > a + b and c and d > 0):\n",
        "  print(\"Valores aceitos\")\n",
        "else:\n",
        "  print(\"Valores não aceitos\")"
      ],
      "metadata": {
        "colab": {
          "base_uri": "https://localhost:8080/"
        },
        "id": "Z8XG2IEJwzO-",
        "outputId": "9ef9082f-8d91-47e3-eacf-8e1b201aefdd"
      },
      "execution_count": null,
      "outputs": [
        {
          "output_type": "stream",
          "name": "stdout",
          "text": [
            "Digite um valor:10\n",
            "Digite um valor:2\n",
            "Digite um valor:6\n",
            "Digite um valor:0\n",
            "Valores não aceitos\n"
          ]
        }
      ]
    },
    {
      "cell_type": "code",
      "source": [
        "nivel = int(input(\"Digite o nível: \"))\n",
        "horasTrab = int(input(\"Digite as horas trabalhadas:\"))\n",
        "\n",
        "if(nivel == 1):\n",
        " # salario = horasTrab * 12\n",
        "  horasTrab*= 12\n",
        "  print(f\"O valor que você vai receber é {horasTrab}\")\n",
        "elif(nivel == 2):\n",
        "  horasTrab*=17\n",
        "  print(f\"O valor que você vai receber é {horasTrab}\")\n",
        "elif(nivel == 3):\n",
        "  horasTrab*=25\n",
        "  print(f\"O valor que você vai receber é {horasTrab}\")\n",
        "else\n",
        "  print(\"O nível digitado é inválido\")\n"
      ],
      "metadata": {
        "id": "7MiMPBW144JD"
      },
      "execution_count": null,
      "outputs": []
    },
    {
      "cell_type": "code",
      "source": [
        "from ast import Constant\n",
        "#varivael é algo que varia\n",
        "\n",
        "n1 = 20\n",
        "n1 = 100\n",
        "\n",
        "n1+= 200\n",
        "\n",
        "print(n1)\n",
        "\n"
      ],
      "metadata": {
        "colab": {
          "base_uri": "https://localhost:8080/"
        },
        "id": "w1lKhZoL64mu",
        "outputId": "43a516d8-2f9b-4a07-8b35-e703dc4d5cb3"
      },
      "execution_count": null,
      "outputs": [
        {
          "output_type": "stream",
          "name": "stdout",
          "text": [
            "300\n"
          ]
        }
      ]
    },
    {
      "cell_type": "code",
      "source": [
        "positivos = 0\n",
        "resposta = input(\"Telefonou pra vitima?\")\n",
        "if resposta.upper() == \"S\":\n",
        "  positivos += 1 # positivos = positivos + 1\n",
        "resposta = input(\"Esteve no local do crime?\")\n",
        "if resposta.upper() == \"S\":\n",
        "  positivos += 1\n",
        "resposta = input(\"Mora perto da vítima?\")\n",
        "if resposta.upper() == \"S\":\n",
        "  positivos += 1\n",
        "resposta = input(\"Devia para a vítima?\")\n",
        "if resposta.upper() == \"S\":\n",
        "  positivos += 1\n",
        "resposta = input(\"Trabalhou com a vítima?\")\n",
        "if resposta.upper() == \"S\":\n",
        "  positivos += 1\n",
        "\n",
        "if positivos < 2:\n",
        "  print(\"Inocente\")\n",
        "if positivos == 2:\n",
        "  print(\"Suspeito\")\n",
        "if positivos < 5:\n",
        "  print(\"Cúmplice\")\n",
        "else:\n",
        "  print(\"Assasino\")"
      ],
      "metadata": {
        "colab": {
          "base_uri": "https://localhost:8080/",
          "height": 391
        },
        "id": "18aEKbt-Bwr6",
        "outputId": "91a532ea-f672-4b40-f738-fa54a3ef8b34"
      },
      "execution_count": null,
      "outputs": [
        {
          "name": "stdout",
          "output_type": "stream",
          "text": [
            "Telefonou pra vitima?não\n",
            "Esteve no local do crime?não\n"
          ]
        },
        {
          "output_type": "error",
          "ename": "KeyboardInterrupt",
          "evalue": "Interrupted by user",
          "traceback": [
            "\u001b[0;31m---------------------------------------------------------------------------\u001b[0m",
            "\u001b[0;31mKeyboardInterrupt\u001b[0m                         Traceback (most recent call last)",
            "\u001b[0;32m<ipython-input-2-1c68297254f0>\u001b[0m in \u001b[0;36m<cell line: 0>\u001b[0;34m()\u001b[0m\n\u001b[1;32m      6\u001b[0m \u001b[0;32mif\u001b[0m \u001b[0mresposta\u001b[0m\u001b[0;34m.\u001b[0m\u001b[0mupper\u001b[0m\u001b[0;34m(\u001b[0m\u001b[0;34m)\u001b[0m \u001b[0;34m==\u001b[0m \u001b[0;34m\"S\"\u001b[0m\u001b[0;34m:\u001b[0m\u001b[0;34m\u001b[0m\u001b[0;34m\u001b[0m\u001b[0m\n\u001b[1;32m      7\u001b[0m   \u001b[0mpositivos\u001b[0m \u001b[0;34m+=\u001b[0m \u001b[0;36m1\u001b[0m\u001b[0;34m\u001b[0m\u001b[0;34m\u001b[0m\u001b[0m\n\u001b[0;32m----> 8\u001b[0;31m \u001b[0mresposta\u001b[0m \u001b[0;34m=\u001b[0m \u001b[0minput\u001b[0m\u001b[0;34m(\u001b[0m\u001b[0;34m\"Mora perto da vítima?\"\u001b[0m\u001b[0;34m)\u001b[0m\u001b[0;34m\u001b[0m\u001b[0;34m\u001b[0m\u001b[0m\n\u001b[0m\u001b[1;32m      9\u001b[0m \u001b[0;32mif\u001b[0m \u001b[0mresposta\u001b[0m\u001b[0;34m.\u001b[0m\u001b[0mupper\u001b[0m\u001b[0;34m(\u001b[0m\u001b[0;34m)\u001b[0m \u001b[0;34m==\u001b[0m \u001b[0;34m\"S\"\u001b[0m\u001b[0;34m:\u001b[0m\u001b[0;34m\u001b[0m\u001b[0;34m\u001b[0m\u001b[0m\n\u001b[1;32m     10\u001b[0m   \u001b[0mpositivos\u001b[0m \u001b[0;34m+=\u001b[0m \u001b[0;36m1\u001b[0m\u001b[0;34m\u001b[0m\u001b[0;34m\u001b[0m\u001b[0m\n",
            "\u001b[0;32m/usr/local/lib/python3.11/dist-packages/ipykernel/kernelbase.py\u001b[0m in \u001b[0;36mraw_input\u001b[0;34m(self, prompt)\u001b[0m\n\u001b[1;32m   1175\u001b[0m                 \u001b[0;34m\"raw_input was called, but this frontend does not support input requests.\"\u001b[0m\u001b[0;34m\u001b[0m\u001b[0;34m\u001b[0m\u001b[0m\n\u001b[1;32m   1176\u001b[0m             )\n\u001b[0;32m-> 1177\u001b[0;31m         return self._input_request(\n\u001b[0m\u001b[1;32m   1178\u001b[0m             \u001b[0mstr\u001b[0m\u001b[0;34m(\u001b[0m\u001b[0mprompt\u001b[0m\u001b[0;34m)\u001b[0m\u001b[0;34m,\u001b[0m\u001b[0;34m\u001b[0m\u001b[0;34m\u001b[0m\u001b[0m\n\u001b[1;32m   1179\u001b[0m             \u001b[0mself\u001b[0m\u001b[0;34m.\u001b[0m\u001b[0m_parent_ident\u001b[0m\u001b[0;34m[\u001b[0m\u001b[0;34m\"shell\"\u001b[0m\u001b[0;34m]\u001b[0m\u001b[0;34m,\u001b[0m\u001b[0;34m\u001b[0m\u001b[0;34m\u001b[0m\u001b[0m\n",
            "\u001b[0;32m/usr/local/lib/python3.11/dist-packages/ipykernel/kernelbase.py\u001b[0m in \u001b[0;36m_input_request\u001b[0;34m(self, prompt, ident, parent, password)\u001b[0m\n\u001b[1;32m   1217\u001b[0m             \u001b[0;32mexcept\u001b[0m \u001b[0mKeyboardInterrupt\u001b[0m\u001b[0;34m:\u001b[0m\u001b[0;34m\u001b[0m\u001b[0;34m\u001b[0m\u001b[0m\n\u001b[1;32m   1218\u001b[0m                 \u001b[0;31m# re-raise KeyboardInterrupt, to truncate traceback\u001b[0m\u001b[0;34m\u001b[0m\u001b[0;34m\u001b[0m\u001b[0m\n\u001b[0;32m-> 1219\u001b[0;31m                 \u001b[0;32mraise\u001b[0m \u001b[0mKeyboardInterrupt\u001b[0m\u001b[0;34m(\u001b[0m\u001b[0;34m\"Interrupted by user\"\u001b[0m\u001b[0;34m)\u001b[0m \u001b[0;32mfrom\u001b[0m \u001b[0;32mNone\u001b[0m\u001b[0;34m\u001b[0m\u001b[0;34m\u001b[0m\u001b[0m\n\u001b[0m\u001b[1;32m   1220\u001b[0m             \u001b[0;32mexcept\u001b[0m \u001b[0mException\u001b[0m\u001b[0;34m:\u001b[0m\u001b[0;34m\u001b[0m\u001b[0;34m\u001b[0m\u001b[0m\n\u001b[1;32m   1221\u001b[0m                 \u001b[0mself\u001b[0m\u001b[0;34m.\u001b[0m\u001b[0mlog\u001b[0m\u001b[0;34m.\u001b[0m\u001b[0mwarning\u001b[0m\u001b[0;34m(\u001b[0m\u001b[0;34m\"Invalid Message:\"\u001b[0m\u001b[0;34m,\u001b[0m \u001b[0mexc_info\u001b[0m\u001b[0;34m=\u001b[0m\u001b[0;32mTrue\u001b[0m\u001b[0;34m)\u001b[0m\u001b[0;34m\u001b[0m\u001b[0;34m\u001b[0m\u001b[0m\n",
            "\u001b[0;31mKeyboardInterrupt\u001b[0m: Interrupted by user"
          ]
        }
      ]
    },
    {
      "cell_type": "code",
      "source": [
        "codigo = int(input(\"Digite o código da doação (1 a 5): \"))\n",
        "\n",
        "# Verificando o valor da doação com if\n",
        "if codigo == 1:\n",
        "    print(\"Você doou R$ 10,00.\")\n",
        "elif codigo == 2:\n",
        "    print(\"Você doou R$ 15,00.\")\n",
        "elif codigo == 3:\n",
        "    print(\"Você doou R$ 25,00.\")\n",
        "elif codigo == 4:\n",
        "    print(\"Você doou R$ 50,00.\")\n",
        "elif codigo == 5:\n",
        "    valor = float(input(\"Digite o valor que deseja doar: R$ \"))\n",
        "    print(f\"Você doou R$ {valor:.2f}.\")\n",
        "else:\n",
        "    print(\"Código inválido. Por favor, escolha um código entre 1 e 5.\")"
      ],
      "metadata": {
        "colab": {
          "base_uri": "https://localhost:8080/",
          "height": 356
        },
        "id": "C8QHlAztKd-A",
        "outputId": "5758bd74-0bbb-4432-a5e6-d0e817c6a7c4"
      },
      "execution_count": null,
      "outputs": [
        {
          "output_type": "error",
          "ename": "KeyboardInterrupt",
          "evalue": "Interrupted by user",
          "traceback": [
            "\u001b[0;31m---------------------------------------------------------------------------\u001b[0m",
            "\u001b[0;31mKeyboardInterrupt\u001b[0m                         Traceback (most recent call last)",
            "\u001b[0;32m<ipython-input-4-c85560c889dd>\u001b[0m in \u001b[0;36m<cell line: 0>\u001b[0;34m()\u001b[0m\n\u001b[0;32m----> 1\u001b[0;31m \u001b[0mcodigo\u001b[0m \u001b[0;34m=\u001b[0m \u001b[0mint\u001b[0m\u001b[0;34m(\u001b[0m\u001b[0minput\u001b[0m\u001b[0;34m(\u001b[0m\u001b[0;34m\"Digite o código da doação (1 a 5): \"\u001b[0m\u001b[0;34m)\u001b[0m\u001b[0;34m)\u001b[0m\u001b[0;34m\u001b[0m\u001b[0;34m\u001b[0m\u001b[0m\n\u001b[0m\u001b[1;32m      2\u001b[0m \u001b[0;34m\u001b[0m\u001b[0m\n\u001b[1;32m      3\u001b[0m \u001b[0;31m# Verificando o valor da doação com if\u001b[0m\u001b[0;34m\u001b[0m\u001b[0;34m\u001b[0m\u001b[0m\n\u001b[1;32m      4\u001b[0m \u001b[0;32mif\u001b[0m \u001b[0mcodigo\u001b[0m \u001b[0;34m==\u001b[0m \u001b[0;36m1\u001b[0m\u001b[0;34m:\u001b[0m\u001b[0;34m\u001b[0m\u001b[0;34m\u001b[0m\u001b[0m\n\u001b[1;32m      5\u001b[0m     \u001b[0mprint\u001b[0m\u001b[0;34m(\u001b[0m\u001b[0;34m\"Você doou R$ 10,00.\"\u001b[0m\u001b[0;34m)\u001b[0m\u001b[0;34m\u001b[0m\u001b[0;34m\u001b[0m\u001b[0m\n",
            "\u001b[0;32m/usr/local/lib/python3.11/dist-packages/ipykernel/kernelbase.py\u001b[0m in \u001b[0;36mraw_input\u001b[0;34m(self, prompt)\u001b[0m\n\u001b[1;32m   1175\u001b[0m                 \u001b[0;34m\"raw_input was called, but this frontend does not support input requests.\"\u001b[0m\u001b[0;34m\u001b[0m\u001b[0;34m\u001b[0m\u001b[0m\n\u001b[1;32m   1176\u001b[0m             )\n\u001b[0;32m-> 1177\u001b[0;31m         return self._input_request(\n\u001b[0m\u001b[1;32m   1178\u001b[0m             \u001b[0mstr\u001b[0m\u001b[0;34m(\u001b[0m\u001b[0mprompt\u001b[0m\u001b[0;34m)\u001b[0m\u001b[0;34m,\u001b[0m\u001b[0;34m\u001b[0m\u001b[0;34m\u001b[0m\u001b[0m\n\u001b[1;32m   1179\u001b[0m             \u001b[0mself\u001b[0m\u001b[0;34m.\u001b[0m\u001b[0m_parent_ident\u001b[0m\u001b[0;34m[\u001b[0m\u001b[0;34m\"shell\"\u001b[0m\u001b[0;34m]\u001b[0m\u001b[0;34m,\u001b[0m\u001b[0;34m\u001b[0m\u001b[0;34m\u001b[0m\u001b[0m\n",
            "\u001b[0;32m/usr/local/lib/python3.11/dist-packages/ipykernel/kernelbase.py\u001b[0m in \u001b[0;36m_input_request\u001b[0;34m(self, prompt, ident, parent, password)\u001b[0m\n\u001b[1;32m   1217\u001b[0m             \u001b[0;32mexcept\u001b[0m \u001b[0mKeyboardInterrupt\u001b[0m\u001b[0;34m:\u001b[0m\u001b[0;34m\u001b[0m\u001b[0;34m\u001b[0m\u001b[0m\n\u001b[1;32m   1218\u001b[0m                 \u001b[0;31m# re-raise KeyboardInterrupt, to truncate traceback\u001b[0m\u001b[0;34m\u001b[0m\u001b[0;34m\u001b[0m\u001b[0m\n\u001b[0;32m-> 1219\u001b[0;31m                 \u001b[0;32mraise\u001b[0m \u001b[0mKeyboardInterrupt\u001b[0m\u001b[0;34m(\u001b[0m\u001b[0;34m\"Interrupted by user\"\u001b[0m\u001b[0;34m)\u001b[0m \u001b[0;32mfrom\u001b[0m \u001b[0;32mNone\u001b[0m\u001b[0;34m\u001b[0m\u001b[0;34m\u001b[0m\u001b[0m\n\u001b[0m\u001b[1;32m   1220\u001b[0m             \u001b[0;32mexcept\u001b[0m \u001b[0mException\u001b[0m\u001b[0;34m:\u001b[0m\u001b[0;34m\u001b[0m\u001b[0;34m\u001b[0m\u001b[0m\n\u001b[1;32m   1221\u001b[0m                 \u001b[0mself\u001b[0m\u001b[0;34m.\u001b[0m\u001b[0mlog\u001b[0m\u001b[0;34m.\u001b[0m\u001b[0mwarning\u001b[0m\u001b[0;34m(\u001b[0m\u001b[0;34m\"Invalid Message:\"\u001b[0m\u001b[0;34m,\u001b[0m \u001b[0mexc_info\u001b[0m\u001b[0;34m=\u001b[0m\u001b[0;32mTrue\u001b[0m\u001b[0;34m)\u001b[0m\u001b[0;34m\u001b[0m\u001b[0;34m\u001b[0m\u001b[0m\n",
            "\u001b[0;31mKeyboardInterrupt\u001b[0m: Interrupted by user"
          ]
        }
      ]
    },
    {
      "cell_type": "code",
      "source": [
        "#ESTRUTURA SWITCH- MATCH\n",
        "codigo = int(input(\"Digite o código da doação (1 a 5): \"))\n",
        "\n",
        "match codigo:\n",
        "  case 1:\n",
        "    print(\"Você doou 10 reais\")\n",
        "  case 2:\n",
        "    print(\"Você doou 15 reais\")\n",
        "  case 3:\n",
        "    print(\"Você 25 reais\")\n",
        "  case 4:\n",
        "    print(\"Você doou 50 reais\")\n",
        "  case 5:\n",
        "    valor = float(input(\"Digite o valor que deseja doar: \"))\n",
        "    print(f\"Você doou R$ {valor:.2f}\")\n",
        "  case _: #default\n",
        "    print(\"Código inválido\")\n"
      ],
      "metadata": {
        "colab": {
          "base_uri": "https://localhost:8080/"
        },
        "id": "VuuFIUriK8UC",
        "outputId": "f2e20531-182b-4c08-df9e-bd31a39d51ca"
      },
      "execution_count": null,
      "outputs": [
        {
          "output_type": "stream",
          "name": "stdout",
          "text": [
            "Digite o código da doação (1 a 5): 1\n",
            "Você doou 10 reais\n"
          ]
        }
      ]
    },
    {
      "cell_type": "code",
      "source": [
        "#ESTRUTURA SWITCH- MATCH\n",
        "ddd = int(input(\"Digite o código da doação (1 a 5): \"))\n",
        "\n",
        "match ddd:\n",
        "  case 61:\n",
        "    print(\"Brasilia\")\n",
        "  case 71:\n",
        "    print(\"Salvador\")\n",
        "  case 11:\n",
        "    print(\"São Paulo\")\n",
        "  case 21:\n",
        "    print(\"Rio de Janeiro\")\n",
        "  case 32:\n",
        "    print(\"Juiz de Fora\")\n",
        "  case 19:\n",
        "    print(\"Campinas\")\n",
        "  case 27:\n",
        "    print(\"Vitória\")\n",
        "  case 31:\n",
        "    print(\"Belo Horizonte\")\n",
        "  case _: #default\n",
        "    print(\"DDD inválido\")"
      ],
      "metadata": {
        "colab": {
          "base_uri": "https://localhost:8080/"
        },
        "id": "XTvnJ_QwO7OI",
        "outputId": "dd0dbedf-9639-412d-cdf1-c53e19d0caef"
      },
      "execution_count": null,
      "outputs": [
        {
          "output_type": "stream",
          "name": "stdout",
          "text": [
            "Digite o código da doação (1 a 5): 10\n",
            "DDD inválido\n"
          ]
        }
      ]
    },
    {
      "cell_type": "code",
      "source": [
        "#ESTRUTURA SWITCH- MATCH\n",
        "codigo = int(input(\"Digite o código: \"))\n",
        "\n",
        "match codigo:\n",
        "  case 1:\n",
        "    quantidade = int(input(\"Digite a quantidade: \")) * 4.00\n",
        "    print(\"O valor total é \",quantidade)\n",
        "  case 2:\n",
        "    quantidade = int(input(\"Digite a quantidade: \")) * 4.50\n",
        "    print(\"O valor total é \",quantidade)\n",
        "  case 3:\n",
        "    quantidade = int(input(\"Digite a quantidade: \")) * 5.00\n",
        "    print(\"O valor total é \",quantidade)\n",
        "  case 4:\n",
        "    quantidade = int(input(\"Digite a quantidade: \")) * 2.00\n",
        "    print(\"O valor total é \",quantidade)\n",
        "  case 5:\n",
        "    quantidade = int(input(\"Digite a quantidade: \")) * 1.50\n",
        "    print(\"O valor total é \",quantidade)\n",
        "  case _: #default\n",
        "    print(\"Código inválido\")"
      ],
      "metadata": {
        "colab": {
          "base_uri": "https://localhost:8080/"
        },
        "id": "Q0fYpqGDW_O1",
        "outputId": "f6eab29f-25fc-4194-a7a2-eb2f45dc17fe"
      },
      "execution_count": null,
      "outputs": [
        {
          "output_type": "stream",
          "name": "stdout",
          "text": [
            "Digite o código: 1\n",
            "Digite a quantidade: 20\n",
            "O valor total é  80.0\n"
          ]
        }
      ]
    },
    {
      "cell_type": "code",
      "source": [
        "#ESTRUTURA SWITCH- MATCH\n",
        "codigo = int(input(\"Digite o código da operação 1 - SOMA 2 - SUBTRAÇÃO 3 - MULTIPLICAÇÃO 5 - DIVISÃO: \"))\n",
        "\n",
        "n1 = float(input(\"Digite o primeiro número: \"))\n",
        "n2 = float(input(\"Digite o segundo número: \"))\n",
        "\n",
        "match codigo:\n",
        "  case 1:\n",
        "    print(\"A soma é \",n1+n2)\n",
        "  case 2:\n",
        "    print(\"A soma é \",n1-n2)\n",
        "  case 3:\n",
        "    print(\"A soma é \",n1*n2)\n",
        "  case 4:\n",
        "    print(\"A soma é \",n1/n2)\n",
        "  case _: #default\n",
        "    print(\"Código inválido\")"
      ],
      "metadata": {
        "colab": {
          "base_uri": "https://localhost:8080/"
        },
        "id": "WJEefdpngwRg",
        "outputId": "900b7db1-e55c-4184-99f7-15e653ccab87"
      },
      "execution_count": null,
      "outputs": [
        {
          "output_type": "stream",
          "name": "stdout",
          "text": [
            "Digite o código da operação 1 - SOMA 2 - SUBTRAÇÃO 3 - MULTIPLICAÇÃO 5 - DIVISÃO: 1\n",
            "Digite o primeiro número: 50\n",
            "Digite o segundo número: 60\n",
            "A soma é  110.0\n"
          ]
        }
      ]
    },
    {
      "cell_type": "code",
      "source": [
        "cont = 0\n",
        "valor = int(input(\"Digite um número: \"))\n",
        "saltos = int(input(\"Quantos saltos você quer?\"))\n",
        "\n",
        "while cont < valor:\n",
        "  print(cont)\n",
        "  cont = cont + saltos\n",
        "print(\"Terminei de contar\")"
      ],
      "metadata": {
        "colab": {
          "base_uri": "https://localhost:8080/"
        },
        "id": "Ou49-rCimKo9",
        "outputId": "47a413e4-e798-4ef8-c17e-6d36ae9b171f"
      },
      "execution_count": null,
      "outputs": [
        {
          "output_type": "stream",
          "name": "stdout",
          "text": [
            "Digite um número: 10\n",
            "Quantos saltos você quer?3\n",
            "0\n",
            "3\n",
            "6\n",
            "9\n",
            "Terminei de contar\n"
          ]
        }
      ]
    },
    {
      "cell_type": "code",
      "source": [
        "cont = 1\n",
        "soma = 0\n",
        "while cont <= 10:\n",
        "  n1 = int(input(f\"Digite o {cont}° número: \"))\n",
        "  cont = cont + 1\n",
        "  soma += n1 #soma = soma + n1\n",
        "\n",
        "print(\"A soma total foi de \",soma)"
      ],
      "metadata": {
        "colab": {
          "base_uri": "https://localhost:8080/",
          "height": 356
        },
        "id": "SwMyT72su35U",
        "outputId": "3e6ea4b8-f00c-417b-b702-3409c3c02238"
      },
      "execution_count": null,
      "outputs": [
        {
          "output_type": "error",
          "ename": "KeyboardInterrupt",
          "evalue": "Interrupted by user",
          "traceback": [
            "\u001b[0;31m---------------------------------------------------------------------------\u001b[0m",
            "\u001b[0;31mKeyboardInterrupt\u001b[0m                         Traceback (most recent call last)",
            "\u001b[0;32m<ipython-input-30-f9b5b8d5d393>\u001b[0m in \u001b[0;36m<cell line: 0>\u001b[0;34m()\u001b[0m\n\u001b[1;32m      2\u001b[0m \u001b[0msoma\u001b[0m \u001b[0;34m=\u001b[0m \u001b[0;36m0\u001b[0m\u001b[0;34m\u001b[0m\u001b[0;34m\u001b[0m\u001b[0m\n\u001b[1;32m      3\u001b[0m \u001b[0;32mwhile\u001b[0m \u001b[0mcont\u001b[0m \u001b[0;34m<=\u001b[0m \u001b[0;36m10\u001b[0m\u001b[0;34m:\u001b[0m\u001b[0;34m\u001b[0m\u001b[0;34m\u001b[0m\u001b[0m\n\u001b[0;32m----> 4\u001b[0;31m   \u001b[0mn1\u001b[0m \u001b[0;34m=\u001b[0m \u001b[0mint\u001b[0m\u001b[0;34m(\u001b[0m\u001b[0minput\u001b[0m\u001b[0;34m(\u001b[0m\u001b[0;34mf\"Digite o {cont}° número: \"\u001b[0m\u001b[0;34m)\u001b[0m\u001b[0;34m)\u001b[0m\u001b[0;34m\u001b[0m\u001b[0;34m\u001b[0m\u001b[0m\n\u001b[0m\u001b[1;32m      5\u001b[0m   \u001b[0mcont\u001b[0m \u001b[0;34m=\u001b[0m \u001b[0mcont\u001b[0m \u001b[0;34m+\u001b[0m \u001b[0;36m1\u001b[0m\u001b[0;34m\u001b[0m\u001b[0;34m\u001b[0m\u001b[0m\n\u001b[1;32m      6\u001b[0m   \u001b[0msoma\u001b[0m \u001b[0;34m+=\u001b[0m \u001b[0mn1\u001b[0m \u001b[0;31m#soma = soma + n1\u001b[0m\u001b[0;34m\u001b[0m\u001b[0;34m\u001b[0m\u001b[0m\n",
            "\u001b[0;32m/usr/local/lib/python3.11/dist-packages/ipykernel/kernelbase.py\u001b[0m in \u001b[0;36mraw_input\u001b[0;34m(self, prompt)\u001b[0m\n\u001b[1;32m   1175\u001b[0m                 \u001b[0;34m\"raw_input was called, but this frontend does not support input requests.\"\u001b[0m\u001b[0;34m\u001b[0m\u001b[0;34m\u001b[0m\u001b[0m\n\u001b[1;32m   1176\u001b[0m             )\n\u001b[0;32m-> 1177\u001b[0;31m         return self._input_request(\n\u001b[0m\u001b[1;32m   1178\u001b[0m             \u001b[0mstr\u001b[0m\u001b[0;34m(\u001b[0m\u001b[0mprompt\u001b[0m\u001b[0;34m)\u001b[0m\u001b[0;34m,\u001b[0m\u001b[0;34m\u001b[0m\u001b[0;34m\u001b[0m\u001b[0m\n\u001b[1;32m   1179\u001b[0m             \u001b[0mself\u001b[0m\u001b[0;34m.\u001b[0m\u001b[0m_parent_ident\u001b[0m\u001b[0;34m[\u001b[0m\u001b[0;34m\"shell\"\u001b[0m\u001b[0;34m]\u001b[0m\u001b[0;34m,\u001b[0m\u001b[0;34m\u001b[0m\u001b[0;34m\u001b[0m\u001b[0m\n",
            "\u001b[0;32m/usr/local/lib/python3.11/dist-packages/ipykernel/kernelbase.py\u001b[0m in \u001b[0;36m_input_request\u001b[0;34m(self, prompt, ident, parent, password)\u001b[0m\n\u001b[1;32m   1217\u001b[0m             \u001b[0;32mexcept\u001b[0m \u001b[0mKeyboardInterrupt\u001b[0m\u001b[0;34m:\u001b[0m\u001b[0;34m\u001b[0m\u001b[0;34m\u001b[0m\u001b[0m\n\u001b[1;32m   1218\u001b[0m                 \u001b[0;31m# re-raise KeyboardInterrupt, to truncate traceback\u001b[0m\u001b[0;34m\u001b[0m\u001b[0;34m\u001b[0m\u001b[0m\n\u001b[0;32m-> 1219\u001b[0;31m                 \u001b[0;32mraise\u001b[0m \u001b[0mKeyboardInterrupt\u001b[0m\u001b[0;34m(\u001b[0m\u001b[0;34m\"Interrupted by user\"\u001b[0m\u001b[0;34m)\u001b[0m \u001b[0;32mfrom\u001b[0m \u001b[0;32mNone\u001b[0m\u001b[0;34m\u001b[0m\u001b[0;34m\u001b[0m\u001b[0m\n\u001b[0m\u001b[1;32m   1220\u001b[0m             \u001b[0;32mexcept\u001b[0m \u001b[0mException\u001b[0m\u001b[0;34m:\u001b[0m\u001b[0;34m\u001b[0m\u001b[0;34m\u001b[0m\u001b[0m\n\u001b[1;32m   1221\u001b[0m                 \u001b[0mself\u001b[0m\u001b[0;34m.\u001b[0m\u001b[0mlog\u001b[0m\u001b[0;34m.\u001b[0m\u001b[0mwarning\u001b[0m\u001b[0;34m(\u001b[0m\u001b[0;34m\"Invalid Message:\"\u001b[0m\u001b[0;34m,\u001b[0m \u001b[0mexc_info\u001b[0m\u001b[0;34m=\u001b[0m\u001b[0;32mTrue\u001b[0m\u001b[0;34m)\u001b[0m\u001b[0;34m\u001b[0m\u001b[0;34m\u001b[0m\u001b[0m\n",
            "\u001b[0;31mKeyboardInterrupt\u001b[0m: Interrupted by user"
          ]
        }
      ]
    },
    {
      "cell_type": "code",
      "source": [
        "numero = 1\n",
        "total = 0\n",
        "while numero <= 10:\n",
        " total = float(input(f\"Insira o {numero}o. número a ser somado: \")) + total\n",
        " numero += 1\n",
        "print (f\"\\nResultado da soma: {total}\")"
      ],
      "metadata": {
        "id": "NSrrtL6Twgh2"
      },
      "execution_count": null,
      "outputs": []
    },
    {
      "cell_type": "code",
      "source": [
        "cont = 1\n",
        "\n",
        "while cont <= 5:\n",
        "  numero = float(input(\"Digite um número :\"))\n",
        "  if numero > 0:\n",
        "    print(\"Número positivo\")\n",
        "  else:\n",
        "    print(\"Número negativo\")\n",
        "  cont=cont+1\n"
      ],
      "metadata": {
        "colab": {
          "base_uri": "https://localhost:8080/"
        },
        "id": "EHf36J7n0ahp",
        "outputId": "1a2231f9-f03e-4bb8-b4bd-15a2cb733ab8"
      },
      "execution_count": null,
      "outputs": [
        {
          "output_type": "stream",
          "name": "stdout",
          "text": [
            "Digite um número :1\n",
            "Número positivo\n",
            "Digite um número :-5\n",
            "Número negativo\n",
            "Digite um número :8\n",
            "Número positivo\n",
            "Digite um número :-10\n",
            "Número negativo\n",
            "Digite um número :-5\n",
            "Número negativo\n"
          ]
        }
      ]
    },
    {
      "cell_type": "code",
      "source": [
        "cont = 1\n",
        "maiorIdade = 0\n",
        "\n",
        "while cont <= 10:\n",
        "  idade = int(input(\"Digite a sua idade: \"))\n",
        "  if(idade >= 18):\n",
        "    maiorIdade+=1\n",
        "  cont+=1\n",
        "\n",
        "print(\"A quantidade de pessoas +18 é: \",maiorIdade)"
      ],
      "metadata": {
        "colab": {
          "base_uri": "https://localhost:8080/"
        },
        "id": "o4k3-_V_ZeDP",
        "outputId": "492dbd61-d1ee-4256-d98b-382377d93d25"
      },
      "execution_count": null,
      "outputs": [
        {
          "output_type": "stream",
          "name": "stdout",
          "text": [
            "Digite a sua idade: 2\n",
            "Digite a sua idade: 10\n",
            "Digite a sua idade: 60\n",
            "Digite a sua idade: 50\n",
            "Digite a sua idade: 3\n",
            "Digite a sua idade: 5\n",
            "Digite a sua idade: 1\n",
            "Digite a sua idade: 6\n",
            "Digite a sua idade: 7\n",
            "Digite a sua idade: 8\n",
            "A quantidade de pessoas +18 é:  2\n"
          ]
        }
      ]
    },
    {
      "cell_type": "code",
      "source": [
        "#estrutura FOR\n",
        "for c in range(11):\n",
        "  print(c)\n"
      ],
      "metadata": {
        "colab": {
          "base_uri": "https://localhost:8080/"
        },
        "id": "A6atDuazcWzM",
        "outputId": "a7b13b64-e4f6-41b3-d6fe-325f1f43f15e"
      },
      "execution_count": null,
      "outputs": [
        {
          "output_type": "stream",
          "name": "stdout",
          "text": [
            "0\n",
            "1\n",
            "2\n",
            "3\n",
            "4\n",
            "5\n",
            "6\n",
            "7\n",
            "8\n",
            "9\n",
            "10\n"
          ]
        }
      ]
    },
    {
      "cell_type": "code",
      "source": [
        "n1 = int(input(\"Digite um número para tabuada: \"))\n",
        "for cont in range(1,11):\n",
        "  print(f\" {n1} X {cont} = {n1 * cont}\")\n"
      ],
      "metadata": {
        "colab": {
          "base_uri": "https://localhost:8080/"
        },
        "id": "bbYbDVmhoYrg",
        "outputId": "427502bc-b136-436f-9fbe-cdea0f331c15"
      },
      "execution_count": null,
      "outputs": [
        {
          "output_type": "stream",
          "name": "stdout",
          "text": [
            "Digite um número para tabuada: 7\n",
            " 7 X 1 = 1\n",
            " 7 X 2 = 4\n",
            " 7 X 3 = 9\n",
            " 7 X 4 = 16\n",
            " 7 X 5 = 25\n",
            " 7 X 6 = 36\n",
            " 7 X 7 = 49\n",
            " 7 X 8 = 64\n",
            " 7 X 9 = 81\n",
            " 7 X 10 = 100\n"
          ]
        }
      ]
    },
    {
      "cell_type": "code",
      "source": [
        "soma = 0\n",
        "numero = int(input(\"Digite um número (0 se for sair):\"))\n",
        "\n",
        "while numero != 0:\n",
        "  soma += numero\n",
        "  numero = int(input(\"Digite outro número (0 se for sair):\"))\n",
        "\n",
        "\n",
        "print(\"Soma total: \",soma)"
      ],
      "metadata": {
        "colab": {
          "base_uri": "https://localhost:8080/"
        },
        "id": "AdNjDE2jppay",
        "outputId": "42ce27c8-67eb-4ba5-9f5a-1ec659d02d8c"
      },
      "execution_count": null,
      "outputs": [
        {
          "output_type": "stream",
          "name": "stdout",
          "text": [
            "Digite um número (0 se for sair):1\n",
            "Digite outro número (0 se for sair):1\n",
            "Digite outro número (0 se for sair):1\n",
            "Digite outro número (0 se for sair):0\n",
            "Soma total:  3\n"
          ]
        }
      ]
    },
    {
      "cell_type": "code",
      "source": [
        "import random\n",
        "\n",
        "numero = random.randint(1,10)\n",
        "tentativa = int(input(\"Tente adivinha o número de 1 a 10:\"))\n",
        "\n",
        "while tentativa != numero:\n",
        "  print(\"Errou\")\n",
        "  tentativa = int(input(\"Tente adivinha o número de 1 a 10:\"))\n",
        "\n",
        "print(\"Acertou\")"
      ],
      "metadata": {
        "colab": {
          "base_uri": "https://localhost:8080/",
          "height": 460
        },
        "id": "bNcI1Rt8rQHA",
        "outputId": "2b913305-fecf-4933-e391-afcc554b2a12"
      },
      "execution_count": null,
      "outputs": [
        {
          "output_type": "stream",
          "name": "stdout",
          "text": [
            "Tente adivinha o número de 1 a 10:5\n",
            "Errou\n",
            "Tente adivinha o número de 1 a 10:6\n",
            "Errou\n",
            "Tente adivinha o número de 1 a 10:7\n",
            "Errou\n"
          ]
        },
        {
          "output_type": "error",
          "ename": "KeyboardInterrupt",
          "evalue": "Interrupted by user",
          "traceback": [
            "\u001b[0;31m---------------------------------------------------------------------------\u001b[0m",
            "\u001b[0;31mKeyboardInterrupt\u001b[0m                         Traceback (most recent call last)",
            "\u001b[0;32m<ipython-input-22-84a7d58fa3fc>\u001b[0m in \u001b[0;36m<cell line: 0>\u001b[0;34m()\u001b[0m\n\u001b[1;32m      6\u001b[0m \u001b[0;32mwhile\u001b[0m \u001b[0mtentativa\u001b[0m \u001b[0;34m!=\u001b[0m \u001b[0mnumero\u001b[0m\u001b[0;34m:\u001b[0m\u001b[0;34m\u001b[0m\u001b[0;34m\u001b[0m\u001b[0m\n\u001b[1;32m      7\u001b[0m   \u001b[0mprint\u001b[0m\u001b[0;34m(\u001b[0m\u001b[0;34m\"Errou\"\u001b[0m\u001b[0;34m)\u001b[0m\u001b[0;34m\u001b[0m\u001b[0;34m\u001b[0m\u001b[0m\n\u001b[0;32m----> 8\u001b[0;31m   \u001b[0mtentativa\u001b[0m \u001b[0;34m=\u001b[0m \u001b[0mint\u001b[0m\u001b[0;34m(\u001b[0m\u001b[0minput\u001b[0m\u001b[0;34m(\u001b[0m\u001b[0;34m\"Tente adivinha o número de 1 a 10:\"\u001b[0m\u001b[0;34m)\u001b[0m\u001b[0;34m)\u001b[0m\u001b[0;34m\u001b[0m\u001b[0;34m\u001b[0m\u001b[0m\n\u001b[0m\u001b[1;32m      9\u001b[0m \u001b[0;34m\u001b[0m\u001b[0m\n\u001b[1;32m     10\u001b[0m \u001b[0mprint\u001b[0m\u001b[0;34m(\u001b[0m\u001b[0;34m\"Acertou\"\u001b[0m\u001b[0;34m)\u001b[0m\u001b[0;34m\u001b[0m\u001b[0;34m\u001b[0m\u001b[0m\n",
            "\u001b[0;32m/usr/local/lib/python3.11/dist-packages/ipykernel/kernelbase.py\u001b[0m in \u001b[0;36mraw_input\u001b[0;34m(self, prompt)\u001b[0m\n\u001b[1;32m   1175\u001b[0m                 \u001b[0;34m\"raw_input was called, but this frontend does not support input requests.\"\u001b[0m\u001b[0;34m\u001b[0m\u001b[0;34m\u001b[0m\u001b[0m\n\u001b[1;32m   1176\u001b[0m             )\n\u001b[0;32m-> 1177\u001b[0;31m         return self._input_request(\n\u001b[0m\u001b[1;32m   1178\u001b[0m             \u001b[0mstr\u001b[0m\u001b[0;34m(\u001b[0m\u001b[0mprompt\u001b[0m\u001b[0;34m)\u001b[0m\u001b[0;34m,\u001b[0m\u001b[0;34m\u001b[0m\u001b[0;34m\u001b[0m\u001b[0m\n\u001b[1;32m   1179\u001b[0m             \u001b[0mself\u001b[0m\u001b[0;34m.\u001b[0m\u001b[0m_parent_ident\u001b[0m\u001b[0;34m[\u001b[0m\u001b[0;34m\"shell\"\u001b[0m\u001b[0;34m]\u001b[0m\u001b[0;34m,\u001b[0m\u001b[0;34m\u001b[0m\u001b[0;34m\u001b[0m\u001b[0m\n",
            "\u001b[0;32m/usr/local/lib/python3.11/dist-packages/ipykernel/kernelbase.py\u001b[0m in \u001b[0;36m_input_request\u001b[0;34m(self, prompt, ident, parent, password)\u001b[0m\n\u001b[1;32m   1217\u001b[0m             \u001b[0;32mexcept\u001b[0m \u001b[0mKeyboardInterrupt\u001b[0m\u001b[0;34m:\u001b[0m\u001b[0;34m\u001b[0m\u001b[0;34m\u001b[0m\u001b[0m\n\u001b[1;32m   1218\u001b[0m                 \u001b[0;31m# re-raise KeyboardInterrupt, to truncate traceback\u001b[0m\u001b[0;34m\u001b[0m\u001b[0;34m\u001b[0m\u001b[0m\n\u001b[0;32m-> 1219\u001b[0;31m                 \u001b[0;32mraise\u001b[0m \u001b[0mKeyboardInterrupt\u001b[0m\u001b[0;34m(\u001b[0m\u001b[0;34m\"Interrupted by user\"\u001b[0m\u001b[0;34m)\u001b[0m \u001b[0;32mfrom\u001b[0m \u001b[0;32mNone\u001b[0m\u001b[0;34m\u001b[0m\u001b[0;34m\u001b[0m\u001b[0m\n\u001b[0m\u001b[1;32m   1220\u001b[0m             \u001b[0;32mexcept\u001b[0m \u001b[0mException\u001b[0m\u001b[0;34m:\u001b[0m\u001b[0;34m\u001b[0m\u001b[0;34m\u001b[0m\u001b[0m\n\u001b[1;32m   1221\u001b[0m                 \u001b[0mself\u001b[0m\u001b[0;34m.\u001b[0m\u001b[0mlog\u001b[0m\u001b[0;34m.\u001b[0m\u001b[0mwarning\u001b[0m\u001b[0;34m(\u001b[0m\u001b[0;34m\"Invalid Message:\"\u001b[0m\u001b[0;34m,\u001b[0m \u001b[0mexc_info\u001b[0m\u001b[0;34m=\u001b[0m\u001b[0;32mTrue\u001b[0m\u001b[0;34m)\u001b[0m\u001b[0;34m\u001b[0m\u001b[0;34m\u001b[0m\u001b[0m\n",
            "\u001b[0;31mKeyboardInterrupt\u001b[0m: Interrupted by user"
          ]
        }
      ]
    },
    {
      "cell_type": "code",
      "source": [
        "#lista de numeros\n",
        "numeros = [5.7,2.2,6.5,4.0,5.0]\n",
        "print(numeros)\n",
        "print(len(numeros))\n",
        "\n",
        "#maior e menor numeros em uma lista\n",
        "#print(min(numeros))\n",
        "#print(max(numeros))\n",
        "\n",
        "#somando os valores\n",
        "#print(sum(numeros))\n",
        "\n",
        "#lista de caracteres\n",
        "#nomes = [\"Fulano\",\"Ciclano\",\"Beltrano\",\"Senac\",\"Santo André\"]\n",
        "#print(nomes[3])\n",
        "\n",
        "#tamanho de um array\n",
        "#print(len(nomes))"
      ],
      "metadata": {
        "colab": {
          "base_uri": "https://localhost:8080/"
        },
        "id": "-oc3D_q9tAlv",
        "outputId": "6cb603f8-3872-43aa-bec2-6907b49f88ed"
      },
      "execution_count": null,
      "outputs": [
        {
          "output_type": "stream",
          "name": "stdout",
          "text": [
            "[5.7, 2.2, 6.5, 4.0, 5.0]\n",
            "5\n"
          ]
        }
      ]
    },
    {
      "cell_type": "code",
      "source": [
        "nomes = [\"Fulano\",\"Ciclano\",\"Beltrano\",\"Senac\",\"Santo André\"]\n",
        "print(nomes)\n",
        "#percorrendo a lista\n",
        "for listaNomes in nomes:\n",
        "  print(listaNomes)"
      ],
      "metadata": {
        "colab": {
          "base_uri": "https://localhost:8080/"
        },
        "id": "OBJJeI7Y3KKL",
        "outputId": "5a9fd244-2fd0-4185-8392-c0d8f6261ae0"
      },
      "execution_count": null,
      "outputs": [
        {
          "output_type": "stream",
          "name": "stdout",
          "text": [
            "['Fulano', 'Ciclano', 'Beltrano', 'Senac', 'Santo André']\n",
            "Fulano\n",
            "Ciclano\n",
            "Beltrano\n",
            "Senac\n",
            "Santo André\n"
          ]
        }
      ]
    },
    {
      "cell_type": "code",
      "source": [
        "notas = [8.60,10.00,3.78,7.23]\n",
        "\n",
        "print((f'{sum(notas):.2f}'))\n",
        "\n",
        "somaNotas = 0\n",
        "for nota in notas:\n",
        "  somaNotas += nota\n",
        "print(round(somaNotas,2))\n",
        "\n"
      ],
      "metadata": {
        "colab": {
          "base_uri": "https://localhost:8080/"
        },
        "id": "39MFgDQq7mJt",
        "outputId": "16376777-cddc-455e-cfb1-be69425863ef"
      },
      "execution_count": null,
      "outputs": [
        {
          "output_type": "stream",
          "name": "stdout",
          "text": [
            "29.61\n",
            "29.61\n"
          ]
        }
      ]
    },
    {
      "cell_type": "code",
      "source": [
        "comidas = ['Sorvete','Chocolate','Feijão','Arroz']\n",
        "comidas.append('Salgadinho') #append add no final da lista\n",
        "print(comidas)"
      ],
      "metadata": {
        "colab": {
          "base_uri": "https://localhost:8080/"
        },
        "id": "y4vhUS2Z9g8A",
        "outputId": "a24229fa-fad2-477d-c0f6-413753cdb419"
      },
      "execution_count": null,
      "outputs": [
        {
          "output_type": "stream",
          "name": "stdout",
          "text": [
            "['Sorvete', 'Chocolate', 'Feijão', 'Arroz', 'Salgadinho']\n"
          ]
        }
      ]
    },
    {
      "cell_type": "code",
      "source": [
        "#solicitar ao usuario 3 nomes e armazenar em uma lista\n",
        "\n",
        "nomes = []\n",
        "\n",
        "for c in range(3):\n",
        "  nomes.append(str(input(\"Digite um nome: \")))\n",
        "\n",
        "print(nomes)"
      ],
      "metadata": {
        "colab": {
          "base_uri": "https://localhost:8080/"
        },
        "id": "Rk1StP4L-u0R",
        "outputId": "b9b9af11-a788-4d16-cdfb-9ec82bd1fbb8"
      },
      "execution_count": null,
      "outputs": [
        {
          "output_type": "stream",
          "name": "stdout",
          "text": [
            "Digite um nome: kjk\n",
            "Digite um nome: iui\n",
            "Digite um nome: kjk\n",
            "['kjk', 'iui', 'kjk']\n"
          ]
        }
      ]
    },
    {
      "cell_type": "code",
      "source": [
        "filmes = ['Toy Story','Shrek 3','Carros']\n",
        "filmes.insert(2,'Divertidamente') #insere na posição desejada\n",
        "#filmes.sort() #organiza em ordem alfabetica\n",
        "filmes.reverse()\n",
        "filmes.remove('Shrek 3') #removendo da lista\n",
        "del filmes[1] #deleta\n",
        "print(filmes)\n",
        "\n"
      ],
      "metadata": {
        "colab": {
          "base_uri": "https://localhost:8080/"
        },
        "id": "8hZSr70aF5-w",
        "outputId": "847f817e-92f6-4825-a06f-7e83ed14eaaa"
      },
      "execution_count": null,
      "outputs": [
        {
          "output_type": "stream",
          "name": "stdout",
          "text": [
            "['Carros', 'Toy Story']\n"
          ]
        }
      ]
    },
    {
      "cell_type": "code",
      "source": [
        "media = []\n",
        "\n",
        "for c in range(4):\n",
        "  media.append(float(input(\"Digite uma nota:\")))\n",
        "\n",
        "\n",
        "print(f\"A média é {sum(media)/len(media):.2f}\")"
      ],
      "metadata": {
        "colab": {
          "base_uri": "https://localhost:8080/"
        },
        "id": "4UMWHXiUDpKJ",
        "outputId": "7cfdff8b-21fe-4b88-c8c9-eb5d6ff5d66a"
      },
      "execution_count": null,
      "outputs": [
        {
          "output_type": "stream",
          "name": "stdout",
          "text": [
            "Digite uma nota:4.5\n",
            "Digite uma nota:2.6\n",
            "Digite uma nota:4.5\n",
            "Digite uma nota:5.9\n",
            "A média é 4.38\n"
          ]
        }
      ]
    },
    {
      "cell_type": "code",
      "source": [
        "#Tupla ela é uma estrutura de dados igual a lista\n",
        "#a principal característica das tuplas é ser imutável\n",
        "\n",
        "cidades_sp = ('Campinas','Santo André','São Bernardo')\n",
        "\n",
        "print(type(cidades_sp))\n",
        "print(cidades_sp)\n",
        "\n"
      ],
      "metadata": {
        "colab": {
          "base_uri": "https://localhost:8080/"
        },
        "id": "IcBYSKDcYGiP",
        "outputId": "9f8f828b-87ee-40dd-95f5-247f477b7f3d"
      },
      "execution_count": null,
      "outputs": [
        {
          "output_type": "stream",
          "name": "stdout",
          "text": [
            "<class 'tuple'>\n",
            "('Campinas', 'Santo André', 'São Bernardo')\n"
          ]
        }
      ]
    },
    {
      "cell_type": "code",
      "source": [
        "#dicionário\n",
        "dados_cliente = {\n",
        "    'Nome':'Fulano',\n",
        "    'Endereço':'Rua das Alegrias',\n",
        "    'Telefone':'1144510365'\n",
        "}\n",
        "#print(dados_cliente)\n",
        "\n",
        "#adicionando itens no dicionários\n",
        "dados_cliente['Idade'] = 35\n",
        "\n",
        "#atualizando itens no dicionários\n",
        "dados_cliente.update({'Nome':'Fulano de Tal'})\n",
        "\n",
        "#remover itens do dicionário\n",
        "dados_cliente.pop('Telefone',None)\n",
        "\n",
        "#del dados_cliente['Telefone']\n",
        "\n",
        "print(dados_cliente)\n",
        "\n",
        "\n",
        "#fazendo um dicionário com vários dados\n",
        "pessoas = {\n",
        "    \"Maria\" : {\"Peso\":50,\"Altura\":1.70,\"CPF\":\"41285687\"},\n",
        "    \"João\" : {\"Peso\":80,\"Altura\":1.80,\"CPF\":\"41285687\"},\n",
        "    \"Claudio\" : {\"Peso\":100,\"Altura\":1.56,\"CPF\":\"41285687\"},\n",
        "    \"Ana\" : {\"Peso\":75,\"Altura\":1.52,\"CPF\":\"41285687\"},\n",
        "}\n",
        "\n",
        "print(pessoas)"
      ],
      "metadata": {
        "colab": {
          "base_uri": "https://localhost:8080/"
        },
        "id": "u0Xa800wbCDB",
        "outputId": "4e06c297-daf6-4c62-bb1d-61367e81a93d"
      },
      "execution_count": null,
      "outputs": [
        {
          "output_type": "stream",
          "name": "stdout",
          "text": [
            "{'Nome': 'Fulano de Tal', 'Endereço': 'Rua das Alegrias', 'Idade': 35}\n",
            "{'Maria': {'Peso': 50, 'Altura': 1.7, 'CPF': '41285687'}, 'João': {'Peso': 80, 'Altura': 1.8, 'CPF': '41285687'}, 'Claudio': {'Peso': 100, 'Altura': 1.56, 'CPF': '41285687'}, 'Ana': {'Peso': 75, 'Altura': 1.52, 'CPF': '41285687'}}\n"
          ]
        }
      ]
    },
    {
      "cell_type": "code",
      "source": [
        "#criando dicionário\n",
        "alunos = {\n",
        "    \"João\": {\"Idade\": 20,\"Curso\": \"TI\"},\n",
        "    \"Maria\": {\"Idade\": 22,\"Curso\": \"Engenharia\"},\n",
        "    \"Pedro\": {\"Idade\": 19,\"Curso\": \"Design\"},\n",
        "\n",
        "}\n",
        "#adicionando um novo aluno\n",
        "alunos[\"Ana\"] = {\"Idade\": 21, \"Curso\":\"Medicina\"}\n",
        "\n",
        "#atualizando\n",
        "alunos[\"João\"][\"Curso\"] = \"Ciência da Computação\"\n",
        "#alunos[\"João\"].update = {'Curso':'Ciência da Computação'}\n",
        "\n",
        "#deletar um aluno\n",
        "del alunos[\"Pedro\"]\n",
        "\n",
        "#print(alunos)\n",
        "\n",
        "#Exibindo todos os alunos\n",
        "for nome, info in alunos.items():\n",
        "   print(f\"Nome: {nome},Idade: {info['Idade']},Curso: {info['Curso']}\")\n"
      ],
      "metadata": {
        "colab": {
          "base_uri": "https://localhost:8080/"
        },
        "id": "Xe0Y5tNbmcuk",
        "outputId": "daae404d-d699-4c44-91c1-1f10c3c8b7d1"
      },
      "execution_count": null,
      "outputs": [
        {
          "output_type": "stream",
          "name": "stdout",
          "text": [
            "Nome: João,Idade: 20,Curso: Ciência da Computação\n",
            "Nome: Maria,Idade: 22,Curso: Engenharia\n",
            "Nome: Ana,Idade: 21,Curso: Medicina\n"
          ]
        }
      ]
    },
    {
      "cell_type": "code",
      "source": [
        "print(\"---------*--------------\")"
      ],
      "metadata": {
        "colab": {
          "base_uri": "https://localhost:8080/"
        },
        "id": "vZhHzqxgqPC-",
        "outputId": "2bc2084f-7601-42c8-d59e-165ef4e87000"
      },
      "execution_count": null,
      "outputs": [
        {
          "output_type": "stream",
          "name": "stdout",
          "text": [
            "---------*--------------\n"
          ]
        }
      ]
    },
    {
      "cell_type": "code",
      "source": [
        "#criando função com parâmetro\n",
        "def identificacao(nome,idade):\n",
        "  print(f\"Olá {nome} você tem {idade} anos\")\n",
        "\n",
        "\n",
        "#chamando a função\n",
        "identificacao(\"Carlos\",40)\n",
        "identificacao(\"Viviane\",40)\n",
        "identificacao(\"André\",40)\n",
        "\n",
        "\n",
        "def soma(n1, n2):\n",
        "    print(sum([n1, n2]))\n",
        "\n",
        "soma(10,30)\n",
        "soma(100,400)\n",
        "soma(1045,352410)"
      ],
      "metadata": {
        "colab": {
          "base_uri": "https://localhost:8080/"
        },
        "id": "eqvoMJtLqzvs",
        "outputId": "8a756b73-3049-4ce9-9229-550730e3bf2b"
      },
      "execution_count": null,
      "outputs": [
        {
          "output_type": "stream",
          "name": "stdout",
          "text": [
            "Olá Carlos você tem 40 anos\n",
            "Olá Viviane você tem 40 anos\n",
            "Olá André você tem 40 anos\n",
            "40\n",
            "500\n",
            "353455\n"
          ]
        }
      ]
    },
    {
      "cell_type": "code",
      "source": [
        "nave = input(\"Digite o nome da nave: \")\n",
        "velocidade = 0\n",
        "\n",
        "def acelerar():\n",
        "  global velocidade\n",
        "  velocidade+=5\n",
        "\n",
        "def desacelerar():\n",
        "    global velocidade\n",
        "    if velocidade > 0:\n",
        "     velocidade-=5\n",
        "    else:\n",
        "     print(\"Nave já está parada\")\n",
        "\n",
        "def imprimirDados():\n",
        "  print(f\"Nome da nave: {nave}\")\n",
        "  print(f\"A velocidade atual é {velocidade} km/h\")\n",
        "\n",
        "while True:\n",
        "   menu = int(input(\"1-Acelerar em 5km  2-Desacelrar em 5km 3-Imprimir Dados 4-Sair\"))\n",
        "   if menu == 1:\n",
        "    acelerar()\n",
        "   elif menu == 2:\n",
        "    desacelerar()\n",
        "   elif menu == 3:\n",
        "    imprimirDados()\n",
        "   elif menu == 4:\n",
        "    break\n",
        "   else:\n",
        "    print(\"Opção Inválida\")"
      ],
      "metadata": {
        "colab": {
          "base_uri": "https://localhost:8080/",
          "height": 443
        },
        "id": "I0HTeOVGvvgm",
        "outputId": "584fb95a-4de7-4fb6-ce4e-66ddde9626ee"
      },
      "execution_count": null,
      "outputs": [
        {
          "output_type": "stream",
          "name": "stdout",
          "text": [
            "Digite o nome da nave: Teste\n",
            "1-Acelerar em 5km  2-Desacelrar em 5km 3-Imprimir Dados 4-Sair2\n",
            "Nave já está parada\n",
            "1-Acelerar em 5km  2-Desacelrar em 5km 3-Imprimir Dados 4-Sair2\n",
            "Nave já está parada\n"
          ]
        },
        {
          "output_type": "error",
          "ename": "KeyboardInterrupt",
          "evalue": "Interrupted by user",
          "traceback": [
            "\u001b[0;31m---------------------------------------------------------------------------\u001b[0m",
            "\u001b[0;31mKeyboardInterrupt\u001b[0m                         Traceback (most recent call last)",
            "\u001b[0;32m<ipython-input-33-b400b59a7822>\u001b[0m in \u001b[0;36m<cell line: 0>\u001b[0;34m()\u001b[0m\n\u001b[1;32m     18\u001b[0m \u001b[0;34m\u001b[0m\u001b[0m\n\u001b[1;32m     19\u001b[0m \u001b[0;32mwhile\u001b[0m \u001b[0;32mTrue\u001b[0m\u001b[0;34m:\u001b[0m\u001b[0;34m\u001b[0m\u001b[0;34m\u001b[0m\u001b[0m\n\u001b[0;32m---> 20\u001b[0;31m    \u001b[0mmenu\u001b[0m \u001b[0;34m=\u001b[0m \u001b[0mint\u001b[0m\u001b[0;34m(\u001b[0m\u001b[0minput\u001b[0m\u001b[0;34m(\u001b[0m\u001b[0;34m\"1-Acelerar em 5km  2-Desacelrar em 5km 3-Imprimir Dados 4-Sair\"\u001b[0m\u001b[0;34m)\u001b[0m\u001b[0;34m)\u001b[0m\u001b[0;34m\u001b[0m\u001b[0;34m\u001b[0m\u001b[0m\n\u001b[0m\u001b[1;32m     21\u001b[0m    \u001b[0;32mif\u001b[0m \u001b[0mmenu\u001b[0m \u001b[0;34m==\u001b[0m \u001b[0;36m1\u001b[0m\u001b[0;34m:\u001b[0m\u001b[0;34m\u001b[0m\u001b[0;34m\u001b[0m\u001b[0m\n\u001b[1;32m     22\u001b[0m     \u001b[0macelerar\u001b[0m\u001b[0;34m(\u001b[0m\u001b[0;34m)\u001b[0m\u001b[0;34m\u001b[0m\u001b[0;34m\u001b[0m\u001b[0m\n",
            "\u001b[0;32m/usr/local/lib/python3.11/dist-packages/ipykernel/kernelbase.py\u001b[0m in \u001b[0;36mraw_input\u001b[0;34m(self, prompt)\u001b[0m\n\u001b[1;32m   1175\u001b[0m                 \u001b[0;34m\"raw_input was called, but this frontend does not support input requests.\"\u001b[0m\u001b[0;34m\u001b[0m\u001b[0;34m\u001b[0m\u001b[0m\n\u001b[1;32m   1176\u001b[0m             )\n\u001b[0;32m-> 1177\u001b[0;31m         return self._input_request(\n\u001b[0m\u001b[1;32m   1178\u001b[0m             \u001b[0mstr\u001b[0m\u001b[0;34m(\u001b[0m\u001b[0mprompt\u001b[0m\u001b[0;34m)\u001b[0m\u001b[0;34m,\u001b[0m\u001b[0;34m\u001b[0m\u001b[0;34m\u001b[0m\u001b[0m\n\u001b[1;32m   1179\u001b[0m             \u001b[0mself\u001b[0m\u001b[0;34m.\u001b[0m\u001b[0m_parent_ident\u001b[0m\u001b[0;34m[\u001b[0m\u001b[0;34m\"shell\"\u001b[0m\u001b[0;34m]\u001b[0m\u001b[0;34m,\u001b[0m\u001b[0;34m\u001b[0m\u001b[0;34m\u001b[0m\u001b[0m\n",
            "\u001b[0;32m/usr/local/lib/python3.11/dist-packages/ipykernel/kernelbase.py\u001b[0m in \u001b[0;36m_input_request\u001b[0;34m(self, prompt, ident, parent, password)\u001b[0m\n\u001b[1;32m   1217\u001b[0m             \u001b[0;32mexcept\u001b[0m \u001b[0mKeyboardInterrupt\u001b[0m\u001b[0;34m:\u001b[0m\u001b[0;34m\u001b[0m\u001b[0;34m\u001b[0m\u001b[0m\n\u001b[1;32m   1218\u001b[0m                 \u001b[0;31m# re-raise KeyboardInterrupt, to truncate traceback\u001b[0m\u001b[0;34m\u001b[0m\u001b[0;34m\u001b[0m\u001b[0m\n\u001b[0;32m-> 1219\u001b[0;31m                 \u001b[0;32mraise\u001b[0m \u001b[0mKeyboardInterrupt\u001b[0m\u001b[0;34m(\u001b[0m\u001b[0;34m\"Interrupted by user\"\u001b[0m\u001b[0;34m)\u001b[0m \u001b[0;32mfrom\u001b[0m \u001b[0;32mNone\u001b[0m\u001b[0;34m\u001b[0m\u001b[0;34m\u001b[0m\u001b[0m\n\u001b[0m\u001b[1;32m   1220\u001b[0m             \u001b[0;32mexcept\u001b[0m \u001b[0mException\u001b[0m\u001b[0;34m:\u001b[0m\u001b[0;34m\u001b[0m\u001b[0;34m\u001b[0m\u001b[0m\n\u001b[1;32m   1221\u001b[0m                 \u001b[0mself\u001b[0m\u001b[0;34m.\u001b[0m\u001b[0mlog\u001b[0m\u001b[0;34m.\u001b[0m\u001b[0mwarning\u001b[0m\u001b[0;34m(\u001b[0m\u001b[0;34m\"Invalid Message:\"\u001b[0m\u001b[0;34m,\u001b[0m \u001b[0mexc_info\u001b[0m\u001b[0;34m=\u001b[0m\u001b[0;32mTrue\u001b[0m\u001b[0;34m)\u001b[0m\u001b[0;34m\u001b[0m\u001b[0;34m\u001b[0m\u001b[0m\n",
            "\u001b[0;31mKeyboardInterrupt\u001b[0m: Interrupted by user"
          ]
        }
      ]
    },
    {
      "cell_type": "code",
      "source": [
        "biblioteca = {\n",
        "    \"1984\":{\"autor\" : \"George Orwell\",\"quantidade\": 5},\n",
        "    \"Dom Casmurro\":{\"autor\":\"Machado de Assis\",\"quantidade\": 3},\n",
        "    \"O Pequeno Principe\":{\"autor\":\"Antoine de Saint-Exupéry\",\"quantidade\": 7}\n",
        "}\n",
        "\n",
        "#Adicionar um novo livro\n",
        "def adicionarLivro(titulo, autor, quantidade):\n",
        "  biblioteca[titulo] = {\"autor\":autor,\"quantidade\":quantidade}\n",
        "  print(f\"Livro {titulo} adicionado com sucesso!\")\n",
        "\n",
        "#adicionarLivro(\"Harry Potter\",\"J.K Rowling\",10)\n",
        "#adicionarLivro(\"Alice no Pais das Maravilhas\",\"Lewis Carroll\",5)\n",
        "\n",
        "#adicionar uma quantidade\n",
        "def atualizarQuantidade(titulo, nova_quantidade):\n",
        "  if titulo in biblioteca:\n",
        "    biblioteca[titulo][\"quantidade\"] = nova_quantidade\n",
        "    print(f\"Quantidade de {titulo} atualizado para {nova_quantidade}\")\n",
        "  else:\n",
        "    print(\"Livro não encontrado\")\n",
        "\n",
        "#atualizando a Quantidade\n",
        "atualizarQuantidade(\"1984\",8)\n",
        "\n",
        "\n",
        "#Remover um livro\n",
        "def removerLivro(titulo):\n",
        "  if titulo in biblioteca:\n",
        "    del biblioteca[titulo]\n",
        "    print(f\"Livro {titulo} foi removido com sucesso\")\n",
        "  else:\n",
        "    print(\"Livro não encontrado\")\n",
        "\n",
        "#removerLivro(\"Dom Casmurro\")\n",
        "\n",
        "#Exibindo os livros\n",
        "\n",
        "def exibirLivros():\n",
        "  print(\"Lista de livros na biblioteca:\")\n",
        "  for titulo, info in biblioteca.items():\n",
        "    print(f\"{titulo} - Autor: {info['autor']},Quantidade: {info['quantidade']}\")\n",
        "\n",
        "exibirLivros()"
      ],
      "metadata": {
        "colab": {
          "base_uri": "https://localhost:8080/"
        },
        "id": "30qQlD9XMZDq",
        "outputId": "e7c1a2a3-06de-45ca-cf30-0dd9f5a8436f"
      },
      "execution_count": null,
      "outputs": [
        {
          "output_type": "stream",
          "name": "stdout",
          "text": [
            "Quantidade de 1984 atualizado para 8\n",
            "Lista de livros na biblioteca:\n",
            "1984 - Autor: George Orwell,Quantidade: 8\n",
            "Dom Casmurro - Autor: Machado de Assis,Quantidade: 3\n",
            "O Pequeno Principe - Autor: Antoine de Saint-Exupéry,Quantidade: 7\n"
          ]
        }
      ]
    },
    {
      "cell_type": "code",
      "source": [
        "estoque = {}\n",
        "\n",
        "def menu():\n",
        "    print(\"1 - Adicionar novo produto\")\n",
        "    print(\"2 - Atualizar preço de um produto\")\n",
        "    print(\"3 - Atualizar quantidade em estoque\")\n",
        "    print(\"4 - Remover produto do estoque\")\n",
        "    print(\"5 - Exibir todos os produtos\")\n",
        "    print(\"6 - Encontrar produto mais caro\")\n",
        "    print(\"7 - Sair\")\n",
        "\n",
        "\n",
        "while True:\n",
        "  menu()\n",
        "  opcao = input(\"Selecione uma opção:\")\n",
        "\n",
        "  if opcao == \"1\":\n",
        "    nome = input(\"Nome do produto: \")\n",
        "    if nome in estoque:\n",
        "      print(\"Produto já existe\")\n",
        "    else:\n",
        "      preco = float(input(\"Preço do produto: \"))\n",
        "      quantidade = int(input(\"Quantidade em estoque:\"))\n",
        "      estoque[nome] = {\"preço\":preco,\"quantidade\":quantidade}\n",
        "      print(f\"Produto {nome} adicionado com sucesso\")\n",
        "  elif opcao == \"2\":\n",
        "     nome = input(\"Nome do produto: \")\n",
        "     if nome in estoque:\n",
        "      novoPreco = float(input(\"Novo Preço: \"))\n",
        "      estoque[nome][\"Preço\"] = novoPreco\n",
        "      print(f\"Produto {nome} atualizado com sucesso\")\n",
        "     else:\n",
        "      print(\"Produto não encontrado\")\n",
        "  elif opcao == 3:\n",
        "    nome = input(\"Nome do produto: \")\n",
        "    if nome in estoque:\n",
        "     novaQtd = float(input(\"Nova quantidade em estoque: \"))\n",
        "     estoque[nome][\"Quantidade\"] =  novaQtd\n",
        "     print(f\"Produto {nome} atualizado com sucesso\")\n",
        "    else:\n",
        "      print(\"Produto não encontrado\")\n",
        "  elif opcao == 4:\n",
        "    nome = input(\"Nome do produto: \")\n",
        "    if nome in estoque:\n",
        "      del estoque[nome]\n",
        "      print(f\"Produto {nome} removido do estoque\")\n",
        "  elif opcao == 5\n",
        "    if estoque:\n",
        "      print(\"Produtos em estoque\")\n",
        "    for nomes, dados in estoque.items():\n",
        "      print(f\"{nome} - Preço:{dados['preco']} - Quantidade:{dados['quantidade']} \")\n",
        "    else:\n",
        "      print(\"Nenhum produto encontrado\")\n",
        "  elif opcao == \"6\":\n",
        "    if estoque:\n",
        "        produto_mais_caro = None\n",
        "        maior_preco = 0\n",
        "\n",
        "        for nome, dados in estoque.items():\n",
        "            if dados[\"preco\"] > maior_preco or produto_mais_caro is None:\n",
        "                maior_preco = dados[\"preco\"]\n",
        "                produto_mais_caro = nome\n",
        "\n",
        "        print(f\"Produto mais caro: {produto_mais_caro} - R$ {maior_preco:.2f}\")\n",
        "    else:\n",
        "        print(\"Estoque vazio.\")\n",
        "  elif opcao == 7\n",
        "   print(\"Programa encerrado\")\n",
        "   break\n",
        "  else:\n",
        "    print(\"Opção inválida\")\n",
        "\n"
      ],
      "metadata": {
        "id": "DJ3BfxQxnCGI"
      },
      "execution_count": null,
      "outputs": []
    },
    {
      "cell_type": "code",
      "source": [
        "reservas = {}\n",
        "\n",
        "def mostrar_menu():\n",
        "    print(\"\\n--- MENU ---\")\n",
        "    print(\"1. Cadastrar nova reserva\")\n",
        "    print(\"2. Visualizar todas as reservas\")\n",
        "    print(\"3. Buscar reserva por número do quarto\")\n",
        "    print(\"4. Atualizar número de dias de uma reserva\")\n",
        "    print(\"5. Cancelar uma reserva\")\n",
        "    print(\"6. Sair\")\n",
        "\n",
        "while True:\n",
        "    mostrar_menu()\n",
        "    opcao = input(\"Escolha uma opção: \")\n",
        "\n",
        "    if opcao == \"1\":\n",
        "        quarto = input(\"Número do quarto: \")\n",
        "        if quarto in reservas:\n",
        "            print(\"Esse quarto já está reservado.\")\n",
        "        else:\n",
        "            nome = input(\"Nome do hóspede: \")\n",
        "            dias = int(input(\"Quantidade de dias: \"))\n",
        "            valor_diaria = float(input(\"Valor da diária: R$ \"))\n",
        "            reservas[quarto] = {\n",
        "                \"nome\": nome,\n",
        "                \"dias\": dias,\n",
        "                \"valor_diaria\": valor_diaria\n",
        "            }\n",
        "            print(f\" Reserva criada com sucesso para o quarto {quarto}.\")\n",
        "\n",
        "    elif opcao == \"2\":\n",
        "        if reservas:\n",
        "            print(\"\\nReservas cadastradas:\")\n",
        "            for quarto, dados in reservas.items():\n",
        "                total = dados[\"dias\"] * dados[\"valor_diaria\"]\n",
        "                print(f\"Quarto {quarto}: {dados['nome']} - {dados['dias']} dias - R$ {dados['valor_diaria']:.2f}/dia - Total: R$ {total:.2f}\")\n",
        "        else:\n",
        "            print(\"Nenhuma reserva encontrada.\")\n",
        "\n",
        "    elif opcao == \"3\":\n",
        "        quarto = input(\"Digite o número do quarto: \")\n",
        "        if quarto in reservas:\n",
        "            dados = reservas[quarto]\n",
        "            total = dados[\"dias\"] * dados[\"valor_diaria\"]\n",
        "            print(f\" Quarto {quarto}: {dados['nome']} - {dados['dias']} dias - R$ {dados['valor_diaria']:.2f}/dia - Total: R$ {total:.2f}\")\n",
        "        else:\n",
        "            print(\" Quarto não encontrado.\")\n",
        "\n",
        "    elif opcao == \"4\":\n",
        "        quarto = input(\"Digite o número do quarto a atualizar: \")\n",
        "        if quarto in reservas:\n",
        "            novos_dias = int(input(\"Novo número de dias: \"))\n",
        "            reservas[quarto][\"dias\"] = novos_dias\n",
        "            print(\" Dias atualizados com sucesso.\")\n",
        "        else:\n",
        "            print(\" Quarto não encontrado.\")\n",
        "\n",
        "    elif opcao == \"5\":\n",
        "        quarto = input(\"Digite o número do quarto a cancelar: \")\n",
        "        if quarto in reservas:\n",
        "            del reservas[quarto]\n",
        "            print(\"Reserva cancelada com sucesso.\")\n",
        "        else:\n",
        "            print(\" Quarto não encontrado.\")\n",
        "\n",
        "    elif opcao == \"6\":\n",
        "        print(\" Saindo do sistema\")\n",
        "        break\n",
        "\n",
        "    else:\n",
        "        print(\"Opção inválida. Tente novamente.\")\n"
      ],
      "metadata": {
        "id": "kQKA5eyZdf16"
      },
      "execution_count": null,
      "outputs": []
    }
  ]
}